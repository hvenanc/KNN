{
  "nbformat": 4,
  "nbformat_minor": 0,
  "metadata": {
    "colab": {
      "provenance": []
    },
    "kernelspec": {
      "name": "python3",
      "display_name": "Python 3"
    },
    "language_info": {
      "name": "python"
    }
  },
  "cells": [
    {
      "cell_type": "markdown",
      "source": [
        "# O Algoritmo KNN\n",
        "\n",
        "O KNN (K-nearest neighbors, ou “K-vizinhos mais próximos”) costuma ser um dos primeiros algoritmos aprendidos por iniciantes no mundo do aprendizado de máquina.\n",
        "\n",
        "O KNN é muito utilizado em problemas de classificação, e felizmente é um dos algoritmos de machine learning mais fáceis de se compreender.\n",
        "\n",
        "Em resumo, o KNN tenta classificar cada amostra de um conjunto de dados avaliando sua distância em relação aos vizinhos mais próximos. Se os vizinhos mais próximos forem majoritariamente de uma classe, a amostra em questão será classificada nesta categoria."
      ],
      "metadata": {
        "id": "flZstMNud8vO"
      }
    },
    {
      "cell_type": "markdown",
      "source": [
        "# Classe KNN\n",
        "\n",
        "#### Construtor: K, x de treino e Y de Treino\n",
        "\n",
        "#### Método Estático para encontrar a distância euclidiana entre dois pontos\n",
        "\n",
        "#### Função predict: Todas as previsões a partir do x de treino\n",
        "\n",
        "#### Função _predict: A partir de todas as previsões classifica o dado pelo mais comum."
      ],
      "metadata": {
        "id": "IziLmOxE-pew"
      }
    },
    {
      "cell_type": "code",
      "execution_count": null,
      "metadata": {
        "id": "Bkl09YvZ935x"
      },
      "outputs": [],
      "source": [
        "import numpy as np\n",
        "from collections import Counter\n",
        "\n",
        "\n",
        "class KNN:\n",
        "    def __init__(self, k, x_train, y_train):\n",
        "        self.k = k\n",
        "        self.x_train = x_train\n",
        "        self.y_train = y_train\n",
        "\n",
        "    @staticmethod\n",
        "    def euclidean_distance(x1, x2):\n",
        "        distance = np.sqrt(np.sum((x1 - x2) ** 2))\n",
        "        return distance\n",
        "\n",
        "    def predict(self, data):\n",
        "        predictions = [self._predict(x) for x in data]\n",
        "        return predictions\n",
        "\n",
        "    def _predict(self, x):\n",
        "        # Calcula as distâncias entre os valores\n",
        "        distances = [self.euclidean_distance(x, x_train) for x_train in self.x_train]\n",
        "\n",
        "        # Recupera os indices e seus rotulos\n",
        "        k_indices = np.argsort(distances)[:self.k]\n",
        "        k_nearest_labels = [self.y_train[i] for i in k_indices]\n",
        "\n",
        "        # Determina a classe mais comum\n",
        "        most_common = Counter(k_nearest_labels).most_common()\n",
        "        return most_common[0][0]\n",
        "\n",
        "    #Mede a acurácia do modelo\n",
        "    def accuracy(self, y_test, x_test):\n",
        "        return np.sum(self.predict(x_test) == y_test) / len(y_test)"
      ]
    },
    {
      "cell_type": "markdown",
      "source": [
        "Uso da Classe KNN e importação do dataset. Aqui fazemos o primeiro experimento com k = 1.\n",
        "\n",
        "A Base de Treinamento tem tamanho de 80% dos dados, consequentemente a base de teste tem 20%."
      ],
      "metadata": {
        "id": "2XMst5Qtc5Fv"
      }
    },
    {
      "cell_type": "code",
      "source": [
        "from sklearn import datasets\n",
        "from sklearn.model_selection import train_test_split\n",
        "import matplotlib.pyplot as plt\n",
        "\n",
        "dados = datasets.load_breast_cancer()\n",
        "X, y = dados.data, dados.target\n",
        "\n",
        "X_train, X_test, y_train, y_test = train_test_split(X, y, test_size=0.2, random_state=1234)\n",
        "\n",
        "modelo = KNN(1, X_train,y_train)\n",
        "previsoes = modelo.predict(X_test)\n",
        "acuracia = modelo.accuracy(y_test, X_test)\n",
        "print('Acurácia: ', acuracia)"
      ],
      "metadata": {
        "colab": {
          "base_uri": "https://localhost:8080/"
        },
        "id": "Z9ESoKvI_-uM",
        "outputId": "aacd298e-5ef6-4cd0-f528-a14ce78f34a3"
      },
      "execution_count": null,
      "outputs": [
        {
          "output_type": "stream",
          "name": "stdout",
          "text": [
            "Acurácia:  0.9122807017543859\n"
          ]
        }
      ]
    },
    {
      "cell_type": "markdown",
      "source": [
        "#### - Experimento da relação entre o valor de K e sua Acurácia"
      ],
      "metadata": {
        "id": "nBMMFYwWlRk-"
      }
    },
    {
      "cell_type": "code",
      "source": [
        "valores_K = []\n",
        "acuracias = []\n",
        "\n",
        "for k in range(1,10):\n",
        "  modelo = KNN(k, X_train,y_train)\n",
        "  previsoes = modelo.predict(X_test)\n",
        "  acuracia = modelo.accuracy(y_test, X_test)\n",
        "  valores_K.append(k)\n",
        "  acuracias.append(acuracia)\n",
        "  print(f'Valor de K: {k}, Acurácia: {acuracia}')"
      ],
      "metadata": {
        "colab": {
          "base_uri": "https://localhost:8080/"
        },
        "id": "af9S9d3XlZlf",
        "outputId": "f8b5536b-d49f-489d-a0d2-d45aaa435762"
      },
      "execution_count": null,
      "outputs": [
        {
          "output_type": "stream",
          "name": "stdout",
          "text": [
            "Valor de K: 1, Acurácia: 0.9122807017543859\n",
            "Valor de K: 2, Acurácia: 0.9122807017543859\n",
            "Valor de K: 3, Acurácia: 0.9473684210526315\n",
            "Valor de K: 4, Acurácia: 0.9385964912280702\n",
            "Valor de K: 5, Acurácia: 0.9298245614035088\n",
            "Valor de K: 6, Acurácia: 0.9298245614035088\n",
            "Valor de K: 7, Acurácia: 0.9298245614035088\n",
            "Valor de K: 8, Acurácia: 0.9298245614035088\n",
            "Valor de K: 9, Acurácia: 0.9298245614035088\n"
          ]
        }
      ]
    },
    {
      "cell_type": "markdown",
      "source": [
        "Visualizando os dados graficamente"
      ],
      "metadata": {
        "id": "Q3DRuwKpmA7D"
      }
    },
    {
      "cell_type": "code",
      "source": [
        "plt.plot(valores_K, acuracias, 'bx-')\n",
        "plt.xlabel('Valores de K')\n",
        "plt.ylabel('Acurácia')\n",
        "plt.title('Relação entre K X Acurácia')\n",
        "plt.show()"
      ],
      "metadata": {
        "colab": {
          "base_uri": "https://localhost:8080/",
          "height": 472
        },
        "id": "w7zInb9XmMhQ",
        "outputId": "4db77362-d97c-480c-e610-e3112bd72785"
      },
      "execution_count": null,
      "outputs": [
        {
          "output_type": "display_data",
          "data": {
            "text/plain": [
              "<Figure size 640x480 with 1 Axes>"
            ],
            "image/png": "[encoded data removed]"
          },
          "metadata": {}
        }
      ]
    },
    {
      "cell_type": "markdown",
      "source": [
        "# Conclusão\n",
        "\n",
        "Quando o k é pequeno, a classificação fica mais sensível a regiões bem próximas (podendo ocorrer o problema de overfitting). Com k grande, a classificação fica menos sujeita a ruídos pode ser considerada mais robusta, porém se k for grande demais, pode ser que haja o problema de underfitting.\n",
        "No exemplo nota-se que a acurácia se mantém constante a partir do momento em que o K >= 5. Tendo sua maior taxa de acurácia quando o K = 3."
      ],
      "metadata": {
        "id": "JZLf40NAeUHo"
      }
    },
    {
      "cell_type": "markdown",
      "source": [
        "# Referências\n",
        "\n",
        "DataSet - https://scikit-learn.org/stable/modules/generated/sklearn.datasets.load_breast_cancer.html\n",
        "\n",
        "https://archive.ics.uci.edu/dataset/17/breast+cancer+wisconsin+diagnostic\n",
        "\n",
        "KNN - https://didatica.tech/o-que-e-e-como-funciona-o-algoritmo-knn/"
      ],
      "metadata": {
        "id": "iMq80hlh_9Ed"
      }
    }
  ]
}